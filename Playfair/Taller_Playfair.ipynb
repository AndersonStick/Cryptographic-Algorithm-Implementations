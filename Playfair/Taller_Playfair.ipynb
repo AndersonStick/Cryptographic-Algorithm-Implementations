{
  "nbformat": 4,
  "nbformat_minor": 0,
  "metadata": {
    "colab": {
      "provenance": []
    },
    "kernelspec": {
      "name": "python3",
      "display_name": "Python 3"
    },
    "language_info": {
      "name": "python"
    }
  },
  "cells": [
    {
      "cell_type": "markdown",
      "source": [
        "# **Taller Playfair HOMEWORK**\n",
        "## Anderson Stick Barrera Tovar\n",
        "### 1000623506\n"
      ],
      "metadata": {
        "id": "99hhsgjCHzcu"
      }
    },
    {
      "cell_type": "markdown",
      "source": [
        "Implementar el algoritmo de cifrado de bloques Playfair Cipher en Python. Utilizar un parámetro para identificar si es para cifrar o descifrar, por ejemplo, 1 o 0.\n",
        "\n",
        "El algoritmo debe recibir como entrada para cifrar:\n",
        "- El mensaje en texto claro\n",
        "- La clave\n",
        "\n",
        "Para decifrar:\n",
        "- Mensaje cifrado\n",
        "- La clave\n",
        "\n",
        "Cargar en esta tarea un archivo ZIP con lo siguiente:\n",
        "- Archivo Python\n",
        "- Pequeño video o screenshot (pantallazo) en donde se muestre funcionar el algoritmo"
      ],
      "metadata": {
        "id": "S6BR9MVwH6sG"
      }
    },
    {
      "cell_type": "code",
      "source": [
        "def generate_playfair_matrix(key):\n",
        "    key = key.replace(\" \", \"\").upper()\n",
        "    alphabet = \"ABCDEFGHIKLMNOPQRSTUVWXYZ\"\n",
        "    key_matrix = []\n",
        "    for char in key:\n",
        "        if char not in key_matrix and char in alphabet:\n",
        "            key_matrix.append(char)\n",
        "    for char in alphabet:\n",
        "        if char not in key_matrix:\n",
        "            key_matrix.append(char)\n",
        "    playfair_matrix = [key_matrix[i:i+5] for i in range(0, 25, 5)]\n",
        "    return playfair_matrix\n",
        "\n",
        "def find_char_position(matrix, char):\n",
        "    for i in range(5):\n",
        "        for j in range(5):\n",
        "            if matrix[i][j] == char:\n",
        "                return i, j"
      ],
      "metadata": {
        "id": "Rt9giv77KR19"
      },
      "execution_count": 1,
      "outputs": []
    },
    {
      "cell_type": "markdown",
      "source": [
        "### Función para cifrar un mensaje:"
      ],
      "metadata": {
        "id": "DuTdmAcFH_ju"
      }
    },
    {
      "cell_type": "code",
      "execution_count": 2,
      "metadata": {
        "id": "HuCkHhSaHja-"
      },
      "outputs": [],
      "source": [
        "def encrypt_playfair(plaintext, key):\n",
        "    plaintext = plaintext.replace(\" \", \"\").upper()\n",
        "    playfair_matrix = generate_playfair_matrix(key)\n",
        "    ciphertext = \"\"\n",
        "    for i in range(0, len(plaintext), 2):\n",
        "        char1, char2 = plaintext[i], plaintext[i+1]\n",
        "        row1, col1 = find_char_position(playfair_matrix, char1)\n",
        "        row2, col2 = find_char_position(playfair_matrix, char2)\n",
        "        if row1 == row2:\n",
        "            ciphertext += playfair_matrix[row1][(col1+1)%5] + playfair_matrix[row2][(col2+1)%5]\n",
        "        elif col1 == col2:\n",
        "            ciphertext += playfair_matrix[(row1+1)%5][col1] + playfair_matrix[(row2+1)%5][col2]\n",
        "        else:\n",
        "            ciphertext += playfair_matrix[row1][col2] + playfair_matrix[row2][col1]\n",
        "    return ciphertext"
      ]
    },
    {
      "cell_type": "markdown",
      "source": [
        "### Función para descifrar un mensaje:"
      ],
      "metadata": {
        "id": "PA8oPlX2IAQ9"
      }
    },
    {
      "cell_type": "code",
      "source": [
        "def decrypt_playfair(ciphertext, key):\n",
        "    ciphertext = ciphertext.replace(\" \", \"\").upper()\n",
        "    playfair_matrix = generate_playfair_matrix(key)\n",
        "    plaintext = \"\"\n",
        "    for i in range(0, len(ciphertext), 2):\n",
        "        char1, char2 = ciphertext[i], ciphertext[i+1]\n",
        "        row1, col1 = find_char_position(playfair_matrix, char1)\n",
        "        row2, col2 = find_char_position(playfair_matrix, char2)\n",
        "        if row1 == row2:\n",
        "            plaintext += playfair_matrix[row1][(col1-1)%5] + playfair_matrix[row2][(col2-1)%5]\n",
        "        elif col1 == col2:\n",
        "            plaintext += playfair_matrix[(row1-1)%5][col1] + playfair_matrix[(row2-1)%5][col2]\n",
        "        else:\n",
        "            plaintext += playfair_matrix[row1][col2] + playfair_matrix[row2][col1]\n",
        "    return plaintext"
      ],
      "metadata": {
        "id": "pg9D_BB-LBYa"
      },
      "execution_count": 3,
      "outputs": []
    },
    {
      "cell_type": "markdown",
      "source": [
        "## Ejemplo de uso (Encriptación):\n",
        "\n",
        "MESSAGE: TH IS SE CR ET ME SX SA GE IS EN CR YP TE DX\n",
        "\n",
        "KEY: Y O A N P IJ Z B C D E F G H K L M Q R S"
      ],
      "metadata": {
        "id": "knRYgZJzIGBS"
      }
    },
    {
      "cell_type": "code",
      "source": [
        "def split_into_pairs_with_space(text):\n",
        "    \"\"\"\n",
        "    Divide el texto en pares de letras con un espacio entre cada par.\n",
        "    \"\"\"\n",
        "    pairs = [text[i:i+2] for i in range(0, len(text), 2)]\n",
        "    return ' '.join(pairs)\n",
        "\n",
        "def main():\n",
        "    choice = int(input(\"Enter 1 for encryption, 0 for decryption: \"))\n",
        "    if choice == 1:\n",
        "        plaintext = input(\"Enter plaintext: \")\n",
        "        key = input(\"Enter key: \")\n",
        "        ciphertext = encrypt_playfair(plaintext, key)\n",
        "        print(\"Ciphertext:\", ciphertext)\n",
        "        separated_text = split_into_pairs_with_space(ciphertext)\n",
        "        print(separated_text)\n",
        "    elif choice == 0:\n",
        "        ciphertext = input(\"Enter ciphertext: \")\n",
        "        key = input(\"Enter key: \")\n",
        "        plaintext = decrypt_playfair(ciphertext, key)\n",
        "        print(\"Plaintext:\", plaintext)\n",
        "        separated_text = split_into_pairs_with_space(plaintext)\n",
        "        print(separated_text)\n",
        "    else:\n",
        "        print(\"Invalid choice.\")\n",
        "\n",
        "if __name__ == \"__main__\":\n",
        "    main()"
      ],
      "metadata": {
        "colab": {
          "base_uri": "https://localhost:8080/"
        },
        "id": "q9IedhgvLGze",
        "outputId": "a4a8034d-c12a-48b1-b1de-aff61572dd9f"
      },
      "execution_count": 4,
      "outputs": [
        {
          "output_type": "stream",
          "name": "stdout",
          "text": [
            "Enter 1 for encryption, 0 for decryption: 1\n",
            "Enter plaintext: TH IS SE CR ET ME SX SA GE IS EN CR YP TE DX\n",
            "Enter key: Y O A N P IJ Z B C D E F G H K L M Q R S\n",
            "Ciphertext: WEDLLKHWLYLFXPQPHFDLHYHWOYYLKP\n",
            "WE DL LK HW LY LF XP QP HF DL HY HW OY YL KP\n"
          ]
        }
      ]
    },
    {
      "cell_type": "markdown",
      "source": [
        "## Ejemplo de uso (Desencriptación):\n",
        "\n",
        "MESSAGE: ZO MH LC HY ZK MN SO NQ DL KT OQ CY KI EC LK SO YI EQ PQ RX EY KR WM NS KL GY LD GF AB YA QN YE AP GN IX PG HY YS NB HT EC TL KF VN RP YT PU PF CY EB YA WM KI MP LF UZ LH TC YH NP CK KL LY YT KI GB DH CY EC RD GN CL GO IH YE TY KI XO UY VN SC LX KF MX PW\n",
        "\n",
        "KEY: Y O A N P IJ Z B C D E F G H K L M Q R S"
      ],
      "metadata": {
        "id": "sm_9ui_5LSoD"
      }
    },
    {
      "cell_type": "code",
      "source": [
        "def split_into_pairs_with_space(text):\n",
        "    \"\"\"\n",
        "    Divide el texto en pares de letras con un espacio entre cada par.\n",
        "    \"\"\"\n",
        "    pairs = [text[i:i+2] for i in range(0, len(text), 2)]\n",
        "    return ' '.join(pairs)\n",
        "\n",
        "def main():\n",
        "    choice = int(input(\"Enter 1 for encryption, 0 for decryption: \"))\n",
        "    if choice == 1:\n",
        "        plaintext = input(\"Enter plaintext: \")\n",
        "        key = input(\"Enter key: \")\n",
        "        ciphertext = encrypt_playfair(plaintext, key)\n",
        "        print(\"Ciphertext:\", ciphertext)\n",
        "        separated_text = split_into_pairs_with_space(ciphertext)\n",
        "        print(separated_text)\n",
        "    elif choice == 0:\n",
        "        ciphertext = input(\"Enter ciphertext: \")\n",
        "        key = input(\"Enter key: \")\n",
        "        plaintext = decrypt_playfair(ciphertext, key)\n",
        "        print(\"Plaintext:\", plaintext)\n",
        "        separated_text = split_into_pairs_with_space(plaintext)\n",
        "    else:\n",
        "        print(\"Invalid choice.\")\n",
        "\n",
        "if __name__ == \"__main__\":\n",
        "    main()"
      ],
      "metadata": {
        "colab": {
          "base_uri": "https://localhost:8080/"
        },
        "id": "5ejfHF4eLVwK",
        "outputId": "da005d5f-8dcc-4342-a8af-f5cee88cd7ad"
      },
      "execution_count": 5,
      "outputs": [
        {
          "output_type": "stream",
          "name": "stdout",
          "text": [
            "Enter 1 for encryption, 0 for decryption: 0\n",
            "Enter ciphertext: ZO MH LC HY ZK MN SO NQ DL KT OQ CY KI EC LK SO YI EQ PQ RX EY KR WM NS KL GY LD GF AB YA QN YE AP GN IX PG HY YS NB HT EC TL KF VN RP YT PU PF CY EB YA WM KI MP LF UZ LH TC YH NP CK KL LY YT KI GB DH CY EC RD GN CL GO IH YE TY KI XO UY VN SC LX KF MX PW\n",
            "Enter key: Y O A N P IJ Z B C D E F G H K L M Q R S\n",
            "Plaintext: OURFRIENDFROMPARISEXAMINEDHISEMPTYGLASSWITHSURPRESEASIFEVAPORATIONHADTAKENPLACEWHILEHEWASNTLOXOKINGIPOUREDSOMEMOREWINEANDHESETTLEDBACKINHISCHAIRFACETILTEDUPTOWARDSTHESUNX\n"
          ]
        }
      ]
    },
    {
      "cell_type": "markdown",
      "source": [
        "MENSAJE DECIFRADO Y SEPARADO:\n",
        "OUR FRIEND FROM PARIS EXAMINED HIS EMPTY GLASS WITH SURPRISE AS IF EVAPORATION HAD TAKEN PLACE WHILE HE WASN'T LOOKING. I POURED SOME MORE WINE AND HE SETTLED BACK IN HIS CHAIR, FACE TILTED UP TOWARDS THE SUN"
      ],
      "metadata": {
        "id": "0TWEDlZGNQHr"
      }
    }
  ]
}