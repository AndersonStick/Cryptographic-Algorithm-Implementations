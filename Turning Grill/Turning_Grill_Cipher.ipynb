{
  "nbformat": 4,
  "nbformat_minor": 0,
  "metadata": {
    "colab": {
      "provenance": []
    },
    "kernelspec": {
      "name": "python3",
      "display_name": "Python 3"
    },
    "language_info": {
      "name": "python"
    }
  },
  "cells": [
    {
      "cell_type": "markdown",
      "source": [
        "# **Taller Turning Grill Cipher HOMEWORK**\n",
        "## Anderson Stick Barrera Tovar\n",
        "### 1000623506"
      ],
      "metadata": {
        "id": "-mqmWB5RHQFG"
      }
    },
    {
      "cell_type": "markdown",
      "source": [
        "Implementar el algoritmo de Turning Grille utilizando Python, en donde se reciben los siguientes parámetros:\n",
        "\n",
        "- Tamaño de la retícula (cuadrada, por ejemplo 2 indica que es de 2x2)\n",
        "- Dirección de la rotación (sentido de las manecillas del reloj o sentido contrario, por ejemplo 1 ó 0 respectivamente)\n",
        "- Modo (cifra miento o desciframiento, por ejemplo 1 ó 0 respectivamente)\n",
        "- Cantidad y distribución de los hoyos (se recomienda ingresar únicamente las celdas de la matriz en la que hay hoyos)\n",
        "- Mensaje a (de)cifrar\n",
        "\n",
        "Subir un ZIP con lo siguiente:\n",
        "\n",
        "- Script de python\n",
        "- Pantallazo o video en donde se muestre funcionando el script"
      ],
      "metadata": {
        "id": "uAIRqxlbHX5H"
      }
    },
    {
      "cell_type": "markdown",
      "source": [
        "## 1. Grilla y Mensaje\n",
        "\n",
        "En el método de _Turning Grille_, en lugar de utilizar la convencional llave de texto, se emplea una grilla que consiste en una matriz cuadrada con perforaciones que se gira en una dirección arbitraria, actuando como la \"llave\" o el \"layout\". El proceso comienza solicitando al usuario el ***mensaje*** (`msg`) y las especificaciones de la grilla (su ***tamaño*** `n`, la ***cantidad de perforaciones*** `x`, y la ***dirección de rotación*** `x`). El mensaje se convierte completamente a mayúsculas, se eliminan los espacios (si los hay) y se agrega el caracter $X$ para rellenar si es necesario:"
      ],
      "metadata": {
        "id": "6DyFseetH6KG"
      }
    },
    {
      "cell_type": "code",
      "source": [
        "import numpy as np"
      ],
      "metadata": {
        "id": "HkF5pV4HJMlr"
      },
      "execution_count": 26,
      "outputs": []
    },
    {
      "cell_type": "code",
      "source": [
        "msg = input('\\nIngrese el mensaje: ')     # Solicita al usuario que ingrese el mensaje\n",
        "msg = msg.replace(\" \", \"\")                # Elimina los espacios en blanco del mensaje\n",
        "msg = msg.upper()                         # Convierte el mensaje a mayúsculas\n",
        "\n",
        "n = int(input('\\nIngrese el tamaño (n) de la grilla: '))  # Solicita al usuario que ingrese el tamaño de la retícula\n",
        "h = int(input('Ingrese la cantidad de huecos: '))          # Solicita al usuario que ingrese la cantidad de huecos\n",
        "\n",
        "# Grilla (\"Llave\")\n",
        "K = np.zeros((n, n))  # Crea una matriz de ceros de tamaño n x n que servirá como la \"llave\" para el cifrado\n",
        "\n",
        "# Pide al usuario que ingrese la posición de cada hueco en la grilla\n",
        "print('Ingrese la posición (i,j) de cada hueco:')\n",
        "for num in range(0,h):\n",
        "  print('--------')\n",
        "  i = int(input('i:'))  # Solicita al usuario que ingrese la fila del hueco\n",
        "  j = int(input('j:'))  # Solicita al usuario que ingrese la columna del hueco\n",
        "  K[i, j] = 1;  # Marca el hueco en la posición (i, j) de la matriz K\n",
        "\n",
        "# Muestra la grilla (llave) creada con los huecos marcados\n",
        "print('\\nGrilla:')\n",
        "print(K)\n",
        "\n",
        "# Solicita al usuario que ingrese el sentido de rotación\n",
        "rot = int(input('\\nIngrese el sentido de rotación:\\n 1. Izquierda \\n 2. Derecha \\n'))\n",
        "\n",
        "# Rellena el mensaje con caracteres 'X' si es necesario para que su longitud sea igual al tamaño de la grilla\n",
        "while len(msg) < n*n:\n",
        "  msg += 'X'  # Añade caracteres 'X' al final del mensaje hasta que su longitud sea igual al tamaño de la grilla\n"
      ],
      "metadata": {
        "colab": {
          "base_uri": "https://localhost:8080/"
        },
        "id": "-4CM-M1VGAbV",
        "outputId": "6a94c552-fa22-447f-880e-8d846becef2a"
      },
      "execution_count": 27,
      "outputs": [
        {
          "name": "stdout",
          "output_type": "stream",
          "text": [
            "\n",
            "Ingrese el mensaje: jim attacks at dawn\n",
            "\n",
            "Ingrese el tamaño (n) de la grilla: 4\n",
            "Ingrese la cantidad de huecos: 4\n",
            "Ingrese la posición (i,j) de cada hueco:\n",
            "--------\n",
            "i:0\n",
            "j:0\n",
            "--------\n",
            "i:2\n",
            "j:1\n",
            "--------\n",
            "i:2\n",
            "j:3\n",
            "--------\n",
            "i:3\n",
            "j:2\n",
            "\n",
            "Grilla:\n",
            "[[1. 0. 0. 0.]\n",
            " [0. 0. 0. 0.]\n",
            " [0. 1. 0. 1.]\n",
            " [0. 0. 1. 0.]]\n",
            "\n",
            "Ingrese el sentido de rotación:\n",
            " 1. Izquierda \n",
            " 2. Derecha \n",
            "1\n"
          ]
        }
      ]
    },
    {
      "cell_type": "markdown",
      "source": [
        "## 2. Diccionario de letras a Números y Viceversa\n"
      ],
      "metadata": {
        "id": "zjdux3NFM6A7"
      }
    },
    {
      "cell_type": "markdown",
      "source": [
        "_**Diccionarios:**_\n",
        "\n",
        "Usamos el alfabeto de 26 caracteres ($ABCDEFGHIJKLMNOPQRSTUVWXYZ$).\n",
        "\n",
        "* `L2N` (\"Letter to Number\") permite mapear cada letra mayúscula a un número entero.\n",
        "* `N2L` (\"Number to Letter\") es el opuesto de `L2N`: a cada número le asigna una letra mayúscula."
      ],
      "metadata": {
        "id": "qLcQvqSKNLWK"
      }
    },
    {
      "cell_type": "code",
      "source": [
        "L2N = {\n",
        "  'A': 0,  'B': 1,  'C': 2,  'D': 3,  'E': 4,  'F': 5,  'G': 6,  'H': 7,\n",
        "  'I': 8,  'J': 9,  'K': 10, 'L': 11, 'M': 12, 'N': 13, 'O': 14, 'P': 15,\n",
        "  'Q': 16, 'R': 17, 'S': 18, 'T': 19, 'U': 20, 'V': 21, 'W': 22, 'X': 23,\n",
        "  'Y': 24, 'Z': 25\n",
        "}\n",
        "\n",
        "N2L = {v: k for k, v in L2N.items()}"
      ],
      "metadata": {
        "id": "152f0oVKJ5Oy"
      },
      "execution_count": 28,
      "outputs": []
    },
    {
      "cell_type": "markdown",
      "source": [
        "_**Funciones:**_\n",
        "* `matrixLeft()` y `matrixRight()` permiten rotar una matriz $K_{n \\times n}$ a la izquierda y a la derecha, respectivamente. Esta matriz $K$ es la grilla.\n",
        "* `msgToMatrix()` permite convertir un mensaje de string a matriz cuadrada de tamaño `n` para su tratamiento en el algoritmo ($msg \\rightarrow M_{n \\times n}$).\n",
        "* `getValues()` permite recuperar las letras de la matriz $M$ en las posiciones \"visibles\" a través de la grilla $K$ haciendo uso del diccionario `N2L`.\n",
        "* `hideValues()` hace un proceso inverso: oculta las letras usando el diccionario `L2N`."
      ],
      "metadata": {
        "id": "KOHj696uNdOo"
      }
    },
    {
      "cell_type": "code",
      "source": [
        "# Función para rotar la matriz hacia la izquierda\n",
        "def matrixLeft(K,n):\n",
        "  O =  np.zeros((n, n))  # Crea una nueva matriz de ceros con las mismas dimensiones que K\n",
        "  for i in range(0,n):\n",
        "    for j in range(0,n):\n",
        "      O[n-(j+1)][i] = K[i][j]  # Rota la matriz K hacia la izquierda y la guarda en la matriz O\n",
        "  return O\n",
        "\n",
        "# Función para rotar la matriz hacia la derecha\n",
        "def matrixRight(K,n):\n",
        "  O =  np.zeros((n, n))  # Crea una nueva matriz de ceros con las mismas dimensiones que K\n",
        "  for i in range(0,n):\n",
        "    for j in range(0,n):\n",
        "      O[j][n-(i+1)] = K[i][j]  # Rota la matriz K hacia la derecha y la guarda en la matriz O\n",
        "  return O\n",
        "\n",
        "# Función para convertir el mensaje en una matriz de números según una tabla de correspondencia\n",
        "def msgToMatrix(msg,n):\n",
        "  M = np.zeros((n, n))  # Crea una nueva matriz de ceros de dimensiones n x n\n",
        "  for l in range(0, len(msg)):\n",
        "    i = (int(l/n))  # Calcula la fila correspondiente al índice l del mensaje\n",
        "    j = (int(l%n))  # Calcula la columna correspondiente al índice l del mensaje\n",
        "    M[i][j] = L2N[msg[l]]  # Asigna el valor numérico correspondiente a la letra del mensaje a la posición (i, j) de la matriz M\n",
        "  return M\n",
        "\n",
        "# Función para obtener los valores ocultos en la grilla\n",
        "def getValues(M,K,n):\n",
        "  out = \"\"\n",
        "  for i in range(0,n):\n",
        "    for j in range(0,n):\n",
        "      if K[i][j] == 1:  # Si en la posición (i, j) de la grilla K hay un 1, indica que hay un valor oculto\n",
        "        out += N2L[M[i][j]]  # Añade la letra correspondiente al valor numérico en la posición (i, j) de la matriz M\n",
        "  return out\n",
        "\n",
        "# Función para ocultar valores en la grilla\n",
        "def hideValues(l,K,n,M):\n",
        "  count = 0\n",
        "  for i in range(0,n):\n",
        "    for j in range(0,n):\n",
        "      if K[i][j] == 1:  # Si en la posición (i, j) de la grilla K hay un 1, indica que se debe ocultar un valor\n",
        "        M[i][j] = L2N[l[count]]  # Asigna el valor numérico correspondiente a la letra en la posición count de la lista l a la posición (i, j) de la matriz M\n",
        "        count += 1  # Incrementa el contador para pasar a la siguiente letra de la lista l\n",
        "  return M"
      ],
      "metadata": {
        "id": "yzFH8gElJ7Hq"
      },
      "execution_count": 29,
      "outputs": []
    },
    {
      "cell_type": "markdown",
      "source": [
        "## 3. Cifrar"
      ],
      "metadata": {
        "id": "JBlGE5T9N9In"
      }
    },
    {
      "cell_type": "markdown",
      "source": [
        "Para el proceso de encripción se ubican las letras del mensaje `msg` en la matriz $M$ siguiendo la guía de los huecos de la grilla $K$ y el sentido de rotación `rot`. El mensaje cifrado será entonces la matriz $M$ leída fila por fila, de arriba hacia abajo."
      ],
      "metadata": {
        "id": "9R98z2iQOFWD"
      }
    },
    {
      "cell_type": "code",
      "source": [
        "def encrypt(msg,K,n,h,rot):\n",
        "  M = np.zeros((n, n))  # Crea una matriz de ceros de tamaño n x n que servirá para cifrar el mensaje\n",
        "  for x in range(0, 4):  # Itera cuatro veces (4 vueltas de la grilla)\n",
        "    l1 = int((len(msg)/h) * x)  # Calcula el índice de inicio de la porción de mensaje a cifrar en esta vuelta de la grilla\n",
        "    l2 = int((len(msg)/h) * x) + h  # Calcula el índice de fin de la porción de mensaje a cifrar en esta vuelta de la grilla\n",
        "\n",
        "    l = msg[l1:l2]  # Extrae la porción de mensaje a cifrar en esta vuelta de la grilla\n",
        "\n",
        "    M = hideValues(l, K, n, M)  # Oculta la porción de mensaje en la matriz M utilizando la grilla K\n",
        "    if rot == 1:  # Si el sentido de rotación es izquierda\n",
        "      K = matrixLeft(K, n)  # Rota la grilla hacia la izquierda\n",
        "    if rot == 2:  # Si el sentido de rotación es derecha\n",
        "      K = matrixRight(K, n)  # Rota la grilla hacia la derecha\n",
        "\n",
        "  out = \"\"  # Inicializa una cadena vacía para almacenar el mensaje cifrado\n",
        "  for i in range(0,n):\n",
        "    for j in range(0,n):\n",
        "      out += N2L[M[i][j]]  # Convierte los números ocultos en letras y los concatena a la cadena de salida\n",
        "\n",
        "  return out  # Devuelve el mensaje cifrado como una cadena de texto"
      ],
      "metadata": {
        "id": "M_ZH0gyqJ8tB"
      },
      "execution_count": 30,
      "outputs": []
    },
    {
      "cell_type": "markdown",
      "source": [
        "## 4. Descifrar"
      ],
      "metadata": {
        "id": "4XZXk-UrN7nj"
      }
    },
    {
      "cell_type": "markdown",
      "source": [
        "Para desencriptar, se inicia poniendo el mensaje `msg` en forma de matriz ($M$). Luego, se comienzan a recuperar los valores que marcan los huecos de la grilla $K$ (con la función `getValues()`); por último, se rota la grilla y se repite el proceso. El resultado final (`out`) será la concatenación de todas las letras recuperadas, en orden."
      ],
      "metadata": {
        "id": "mO597oS6OHlw"
      }
    },
    {
      "cell_type": "code",
      "source": [
        "def decrypt(msg,K,n,h,rot):\n",
        "  M = msgToMatrix(msg, n)  # Convierte el mensaje cifrado en una matriz utilizando la función msgToMatrix\n",
        "  out = \"\"  # Inicializa una cadena vacía para almacenar el mensaje descifrado\n",
        "\n",
        "  for giro in range(0, 4):  # Itera cuatro veces (4 vueltas de la grilla)\n",
        "    out += getValues(M,K,n)  # Obtiene los valores ocultos en la grilla y los añade al mensaje descifrado\n",
        "    if rot == 1:  # Si el sentido de rotación es izquierda\n",
        "      K = matrixLeft(K, n)  # Rota la grilla hacia la izquierda\n",
        "    if rot == 2:  # Si el sentido de rotación es derecha\n",
        "      K = matrixRight(K, n)  # Rota la grilla hacia la derecha\n",
        "\n",
        "  return out  # Devuelve el mensaje descifrado como una cadena de texto"
      ],
      "metadata": {
        "id": "1Ye6MBrdJ-WK"
      },
      "execution_count": 31,
      "outputs": []
    },
    {
      "cell_type": "markdown",
      "source": [
        "## 4. Impresión final\n"
      ],
      "metadata": {
        "id": "EIHhEr8NOLOu"
      }
    },
    {
      "cell_type": "markdown",
      "source": [
        "Se pide si quiere cifrar o descifrar"
      ],
      "metadata": {
        "id": "DNX8mD59OQoI"
      }
    },
    {
      "cell_type": "code",
      "source": [
        "print(\"TURNING GRILL CIPHER \\nSeleccione una opción\")\n",
        "choice = int(input(\" 1. Cifrar \\n 2. Descifrar \\n\"))\n",
        "\n",
        "if choice == 1:\n",
        "  print(\"\\n---------------\\n\\nMensaje Original: \" + msg)\n",
        "  print(\"Grilla: \")\n",
        "  print(K)\n",
        "  if rot == 1:\n",
        "    print(\"Rotación: Izquierda\")\n",
        "  if rot == 2:\n",
        "    print(\"Rotación: Derecha\")\n",
        "\n",
        "  out = encrypt(msg,K,n,h,rot)\n",
        "  print(\"\\n---------------\\n\\nMensaje Cifrado: \" + out)\n",
        "\n",
        "elif choice == 2:\n",
        "  print(\"\\n---------------\\n\\nMensaje Cifrado: \" + msg)\n",
        "  print(\"Grilla: \")\n",
        "  print(K)\n",
        "  if rot == 1:\n",
        "    print(\"Rotación: Izquierda\")\n",
        "  if rot == 2:\n",
        "    print(\"Rotación: Derecha\")\n",
        "\n",
        "  out = decrypt(msg,K,n,h,rot)\n",
        "  print(\"\\n---------------\\n\\nMensaje descifrado: \" + out)"
      ],
      "metadata": {
        "colab": {
          "base_uri": "https://localhost:8080/"
        },
        "id": "oF2WPGeLKAC5",
        "outputId": "5bc96278-f932-43e8-fe28-81a81d0e5656"
      },
      "execution_count": 32,
      "outputs": [
        {
          "output_type": "stream",
          "name": "stdout",
          "text": [
            "TURNING GRILL CIPHER \n",
            "Seleccione una opción\n",
            " 1. Cifrar \n",
            " 2. Descifrar \n",
            "1\n",
            "\n",
            "---------------\n",
            "\n",
            "Mensaje Original: JIMATTACKSATDAWN\n",
            "Grilla: \n",
            "[[1. 0. 0. 0.]\n",
            " [0. 0. 0. 0.]\n",
            " [0. 1. 0. 1.]\n",
            " [0. 0. 1. 0.]]\n",
            "Rotación: Izquierda\n",
            "\n",
            "---------------\n",
            "\n",
            "Mensaje Cifrado: JKTDSAATWIAMCNAT\n"
          ]
        }
      ]
    }
  ]
}