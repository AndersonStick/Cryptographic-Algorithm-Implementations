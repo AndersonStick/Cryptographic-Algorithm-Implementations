{
  "nbformat": 4,
  "nbformat_minor": 0,
  "metadata": {
    "colab": {
      "provenance": []
    },
    "kernelspec": {
      "name": "python3",
      "display_name": "Python 3"
    },
    "language_info": {
      "name": "python"
    }
  },
  "cells": [
    {
      "cell_type": "markdown",
      "source": [
        "# **Cifrado Taller Cifrado de Hill HOMEWORK**\n",
        "## Anderson Stick Barrera Tovar\n",
        "### 1000623506"
      ],
      "metadata": {
        "id": "OUkhX5msvM22"
      }
    },
    {
      "cell_type": "markdown",
      "source": [
        "Implementar el algoritmo de cifrado de bloques de Hill en Python (o en el lenguaje de su elección) utilizando el módulo 26. Asegúrese de validar que la matriz tiene inversa modular, es decir, que el determinante es diferente a 0 y que el determinante sea coprimo con 26, es deci,r que gcd(detA,26)=1.\n",
        "\n",
        "El algoritmo debe recibir como entrada para cifrar:\n",
        "\n",
        "- El mensaje en texto claro\n",
        "- La clave (matriz de 2x2)\n",
        "\n",
        "Para decifrar:\n",
        "\n",
        "- Mensaje cifrado\n",
        "- La clave (matriz de 2x2)\n",
        "Cargar en esta tarea un archivo ZIP con lo siguiente:\n",
        "\n",
        "Archivo Python\n",
        "Pequeño video o screenshot en donde se muestre funcionar el algoritmo\n"
      ],
      "metadata": {
        "id": "s0j5_dntvgz3"
      }
    },
    {
      "cell_type": "code",
      "source": [
        "import numpy as np\n",
        "from math import gcd"
      ],
      "metadata": {
        "id": "Eo7HaMK20BiC"
      },
      "execution_count": 75,
      "outputs": []
    },
    {
      "cell_type": "code",
      "execution_count": 76,
      "metadata": {
        "id": "pq0n6YN3vLqI"
      },
      "outputs": [],
      "source": [
        "# Función para convertir texto a números\n",
        "def texto_a_numeros(texto):\n",
        "    return [ord(caracter) - 65 for caracter in texto]\n",
        "\n",
        "# Función para convertir números a texto\n",
        "def numeros_a_texto(numeros):\n",
        "    return ''.join([chr(numero + 65) for numero in numeros])\n",
        "\n",
        "# Función para validar si una matriz tiene inversa modular\n",
        "def matriz_tiene_inversa_modular(matriz):\n",
        "    det = np.linalg.det(matriz) % 26\n",
        "    if det == 0:\n",
        "        return False\n",
        "    if gcd(int(det), 26) == 1:\n",
        "        return True\n",
        "    return False\n",
        "\n",
        "# Función para cifrar utilizando el algoritmo de Hill\n",
        "def cifrar(texto, clave):\n",
        "    texto = texto.replace(\" \", \"\").upper() # Eliminar espacios y convertir a mayúsculas\n",
        "    clave = np.array(clave)\n",
        "    if clave.shape != (2, 2):\n",
        "        raise ValueError(\"La clave debe ser una matriz 2x2\")\n",
        "    if not matriz_tiene_inversa_modular(clave):\n",
        "        raise ValueError(\"La matriz de clave no tiene inversa modular\")\n",
        "    tamaño = len(texto)\n",
        "    if tamaño % 2 != 0:\n",
        "        texto += 'X' # Añadir una 'X' al final si la longitud del texto es impar\n",
        "        tamaño += 1\n",
        "    texto_numeros = texto_a_numeros(texto)\n",
        "    texto_numeros = np.array(texto_numeros)\n",
        "    texto_numeros = texto_numeros.reshape(-1, 2)\n",
        "    texto_cifrado = \"\"\n",
        "    for bloque in texto_numeros:\n",
        "        bloque_cifrado = np.dot(bloque, clave) % 26\n",
        "        texto_cifrado += numeros_a_texto(bloque_cifrado)\n",
        "    return texto_cifrado\n",
        "\n",
        "def matriz_inversa_mod26(matriz):\n",
        "    a, b, c, d = matriz[0][0], matriz[0][1], matriz[1][0], matriz[1][1]\n",
        "    det = (a*d - b*c) % 26\n",
        "    det_inv = pow(det, -1, 26)\n",
        "    inversa = [[(d * det_inv) % 26, (-b * det_inv) % 26],\n",
        "               [(-c * det_inv) % 26, (a * det_inv) % 26]]\n",
        "    return inversa\n",
        "\n",
        "# Función para descifrar utilizando el algoritmo de Hill\n",
        "def descifrar(texto_cifrado, clave):\n",
        "    clave = np.array(clave)\n",
        "    if clave.shape != (2, 2):\n",
        "        raise ValueError(\"La clave debe ser una matriz 2x2\")\n",
        "    if not matriz_tiene_inversa_modular(clave):\n",
        "        raise ValueError(\"La matriz de clave no tiene inversa modular\")\n",
        "    tamaño = len(texto_cifrado)\n",
        "    if tamaño % 2 != 0:\n",
        "        raise ValueError(\"El texto cifrado no tiene longitud válida\")\n",
        "    texto_numeros = texto_a_numeros(texto_cifrado)\n",
        "    texto_numeros = np.array(texto_numeros)\n",
        "    texto_numeros = texto_numeros.reshape(-1, 2)\n",
        "    texto_descifrado = \"\"\n",
        "    for bloque in texto_numeros:\n",
        "        bloque_descifrado = np.dot(bloque, inversa) % 26\n",
        "        bloque_descifrado = np.round(bloque_descifrado).astype(int)  # Redondear a enteros\n",
        "        texto_descifrado += numeros_a_texto(bloque_descifrado)\n",
        "    return texto_descifrado"
      ]
    },
    {
      "cell_type": "markdown",
      "source": [
        "**EJEMPLO CLASE CIFRAR JULY**"
      ],
      "metadata": {
        "id": "DqlxEBGG2F2L"
      }
    },
    {
      "cell_type": "code",
      "source": [
        "# Ejemplo de uso\n",
        "if __name__ == \"__main__\":\n",
        "    mensaje_original = \"JULY\"\n",
        "    clave = [[11, 8], [3, 7]]\n",
        "\n",
        "    # Cifrar el mensaje\n",
        "    mensaje_cifrado = cifrar(mensaje_original, clave)\n",
        "    print(\"Mensaje cifrado:\", mensaje_cifrado)"
      ],
      "metadata": {
        "colab": {
          "base_uri": "https://localhost:8080/"
        },
        "id": "2_5Q1Idt2FRr",
        "outputId": "f7bb7264-a261-4f4b-c0b2-9d663048d997"
      },
      "execution_count": 77,
      "outputs": [
        {
          "output_type": "stream",
          "name": "stdout",
          "text": [
            "Mensaje cifrado: DELW\n"
          ]
        }
      ]
    },
    {
      "cell_type": "markdown",
      "source": [
        "**EJEMPLO CLASE MATRIZ**\n",
        "\n",
        "\n",
        "\\begin{matrix}\n",
        "[11, & 8] \\\\\n",
        "[3, & 7] \\\\\n",
        "\\end{matrix}\n"
      ],
      "metadata": {
        "id": "zSR1fq6V25HS"
      }
    },
    {
      "cell_type": "code",
      "source": [
        "# Ejemplo de uso\n",
        "matriz = [[11, 8],\n",
        "          [3, 7]]\n",
        "\n",
        "inversa = matriz_inversa_mod26(matriz)\n",
        "print(\"Matriz inversa módulo 26:\")\n",
        "for fila in inversa:\n",
        "    print(fila)"
      ],
      "metadata": {
        "id": "PmeCIFuG2VDx",
        "colab": {
          "base_uri": "https://localhost:8080/"
        },
        "outputId": "1403d681-89ac-423d-f23e-82dff766020a"
      },
      "execution_count": 78,
      "outputs": [
        {
          "output_type": "stream",
          "name": "stdout",
          "text": [
            "Matriz inversa módulo 26:\n",
            "[7, 18]\n",
            "[23, 11]\n"
          ]
        }
      ]
    },
    {
      "cell_type": "markdown",
      "source": [
        "**EJERCICIO CLASE DESCIFRAR VKFZRVWTIAZSMISGKA**"
      ],
      "metadata": {
        "id": "XkCN28sJ6Fc0"
      }
    },
    {
      "cell_type": "code",
      "source": [
        "# Mensaje cifrado\n",
        "mensaje_cifrado = \"VKFZRVWTIAZSMISGKA\"\n",
        "\n",
        "# Descifrar el mensaje\n",
        "mensaje_descifrado = descifrar(mensaje_cifrado, inversa)\n",
        "print(\"Mensaje descifrado:\", mensaje_descifrado)"
      ],
      "metadata": {
        "id": "HpdsjDzTw4vB",
        "colab": {
          "base_uri": "https://localhost:8080/"
        },
        "outputId": "62553b8a-9361-4722-a8bd-509ed6bb8c2e"
      },
      "execution_count": 79,
      "outputs": [
        {
          "output_type": "stream",
          "name": "stdout",
          "text": [
            "Mensaje descifrado: NUMBERTHEORYISEASY\n"
          ]
        }
      ]
    },
    {
      "cell_type": "markdown",
      "source": [
        "**Código escalado a matrices que tengan inversa modular > 2x2**"
      ],
      "metadata": {
        "id": "yKhz_Gl5d70w"
      }
    },
    {
      "cell_type": "code",
      "source": [
        "# Función para convertir texto a números\n",
        "def texto_a_numeros(texto):\n",
        "    return [ord(caracter) - 65 for caracter in texto]\n",
        "\n",
        "# Función para convertir números a texto\n",
        "def numeros_a_texto(numeros):\n",
        "    return ''.join([chr(numero + 65) for numero in numeros])\n",
        "\n",
        "# Función para validar si una matriz tiene inversa modular\n",
        "def matriz_tiene_inversa_modular(matriz):\n",
        "    det = np.linalg.det(matriz) % 26\n",
        "    if det == 0:\n",
        "        return False\n",
        "    if gcd(int(det), 26) == 1:\n",
        "        return True\n",
        "    return False\n",
        "\n",
        "# Función para cifrar utilizando el algoritmo de Hill\n",
        "def cifrar(texto, clave):\n",
        "    texto = texto.replace(\" \", \"\").upper() # Eliminar espacios y convertir a mayúsculas\n",
        "    clave = np.array(clave)\n",
        "    if clave.shape[0] != clave.shape[1]:\n",
        "        raise ValueError(\"La clave debe ser una matriz cuadrada\")\n",
        "    if not matriz_tiene_inversa_modular(clave):\n",
        "        raise ValueError(\"La matriz de clave no tiene inversa modular\")\n",
        "    tamaño = len(texto)\n",
        "    if tamaño % clave.shape[0] != 0:\n",
        "        texto += 'X' * (clave.shape[0] - (tamaño % clave.shape[0])) # Añadir X al final si la longitud del texto no es un múltiplo de la dimensión de la clave\n",
        "        tamaño = len(texto)\n",
        "    texto_numeros = texto_a_numeros(texto)\n",
        "    texto_numeros = np.array(texto_numeros)\n",
        "    texto_numeros = texto_numeros.reshape(-1, clave.shape[0])\n",
        "    texto_cifrado = \"\"\n",
        "    for bloque in texto_numeros:\n",
        "        bloque_cifrado = np.dot(bloque, clave) % 26\n",
        "        texto_cifrado += numeros_a_texto(bloque_cifrado)\n",
        "    return texto_cifrado\n",
        "\n",
        "# Función para calcular la matriz inversa modular 26\n",
        "def matriz_inversa_mod26(matriz):\n",
        "    det = int(round(np.linalg.det(matriz))) % 26\n",
        "    if det == 0:\n",
        "        raise ValueError(\"La matriz no tiene inversa modular\")\n",
        "    det_inv = pow(det, -1, 26)\n",
        "    inversa = (det_inv * np.round(det * np.linalg.inv(matriz)).astype(int)) % 26\n",
        "    return inversa\n",
        "\n",
        "def descifrar(texto_cifrado, clave):\n",
        "    clave = np.array(clave)\n",
        "    if clave.shape[0] != clave.shape[1]:\n",
        "        raise ValueError(\"La clave debe ser una matriz cuadrada\")\n",
        "\n",
        "    # Verificar si la matriz de clave tiene una inversa modular válida\n",
        "    if not matriz_tiene_inversa_modular(clave):\n",
        "        raise ValueError(\"La matriz de clave no tiene inversa modular válida\")\n",
        "\n",
        "    try:\n",
        "        inversa = matriz_inversa_mod26(clave)\n",
        "    except ValueError as e:\n",
        "        raise ValueError(\"La matriz de clave no tiene inversa modular válida\") from e\n",
        "\n",
        "    tamaño = len(texto_cifrado)\n",
        "    if tamaño % clave.shape[0] != 0:\n",
        "        raise ValueError(\"El texto cifrado no tiene longitud válida\")\n",
        "\n",
        "    texto_numeros = texto_a_numeros(texto_cifrado)\n",
        "    texto_numeros = np.array(texto_numeros)\n",
        "    texto_numeros = texto_numeros.reshape(-1, clave.shape[0])\n",
        "    texto_descifrado = \"\"\n",
        "\n",
        "    for bloque in texto_numeros:\n",
        "        bloque_descifrado = np.dot(bloque, inversa) % 26\n",
        "        texto_descifrado += numeros_a_texto(bloque_descifrado)\n",
        "\n",
        "    return texto_descifrado"
      ],
      "metadata": {
        "id": "WAUK5DLEdk-D"
      },
      "execution_count": 80,
      "outputs": []
    },
    {
      "cell_type": "code",
      "source": [
        "if __name__ == \"__main__\":\n",
        "    mensaje_original = \"ANDERSONBARRERA\"\n",
        "    clave_3x3 = [[6, 24, 1], [13, 16, 10], [20, 17, 15]]  # Ejemplo de una matriz 3x3\n",
        "\n",
        "    # Verificar si la matriz de clave tiene inversa modular válida\n",
        "    if not matriz_tiene_inversa_modular(clave_3x3):\n",
        "        raise ValueError(\"La matriz de clave no tiene inversa modular válida\")\n",
        "\n",
        "    # Cifrar el mensaje\n",
        "    mensaje_cifrado = cifrar(mensaje_original, clave_3x3)\n",
        "    print(\"Mensaje cifrado:\", mensaje_cifrado)\n"
      ],
      "metadata": {
        "colab": {
          "base_uri": "https://localhost:8080/"
        },
        "id": "UQARgpP6eMeH",
        "outputId": "77ed8c11-3494-46b2-a2ce-2402d0d33f90"
      },
      "execution_count": 81,
      "outputs": [
        {
          "output_type": "stream",
          "name": "stdout",
          "text": [
            "Mensaje cifrado: VZTHYCNPDPPJLES\n"
          ]
        }
      ]
    },
    {
      "cell_type": "code",
      "source": [
        "inversa_3x3 = matriz_inversa_mod26(clave_3x3)\n",
        "print(\"Matriz inversa módulo 26:\")\n",
        "for fila in inversa_3x3:\n",
        "    print(fila)"
      ],
      "metadata": {
        "colab": {
          "base_uri": "https://localhost:8080/"
        },
        "id": "5D_YJOEveO9w",
        "outputId": "c56a3bac-54ec-4ee9-8102-cf5d53b1470c"
      },
      "execution_count": 82,
      "outputs": [
        {
          "output_type": "stream",
          "name": "stdout",
          "text": [
            "Matriz inversa módulo 26:\n",
            "[22 19 13]\n",
            "[ 0 22  3]\n",
            "[ 6  5 12]\n"
          ]
        }
      ]
    }
  ]
}