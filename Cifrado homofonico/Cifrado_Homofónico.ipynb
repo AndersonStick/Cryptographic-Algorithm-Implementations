{
  "nbformat": 4,
  "nbformat_minor": 0,
  "metadata": {
    "colab": {
      "provenance": []
    },
    "kernelspec": {
      "name": "python3",
      "display_name": "Python 3"
    },
    "language_info": {
      "name": "python"
    }
  },
  "cells": [
    {
      "cell_type": "markdown",
      "source": [
        "# **Taller Homophonic Cipher HOMEWORK**\n",
        "## Anderson Stick Barrera Tovar\n",
        "### 1000623506"
      ],
      "metadata": {
        "id": "jzNusNvfV3eh"
      }
    },
    {
      "cell_type": "markdown",
      "source": [
        "Implementar el algoritmo de cifrado Homofónico en Python (o en el lenguaje de su elección) utilizando para m=100 y n=26. El layout a utilizar será el mismo visto en clase (consulte los slides de la parte 2) o un layout aleatorio en el que no se repitan los números al asignarlos a las letras (tenga en cuenta que si lo hace aleatorio debe ser el mismo layout para cifrar y decifrar).\n",
        "\n",
        "El algoritmo debe recibir como entrada para cifrar:\n",
        "\n",
        "- El mensaje en texto claro\n",
        "\n",
        "Para decifrar:\n",
        "\n",
        "- Mensaje cifrado\n",
        "\n",
        "Cargar en esta tarea un archivo ZIP con lo siguiente:\n",
        "\n",
        "- Archivo Python\n",
        "- Pequeño video o screenshot en donde se muestre funcionar el algoritmo"
      ],
      "metadata": {
        "id": "idfoXBj3V-xq"
      }
    },
    {
      "cell_type": "code",
      "source": [
        "import random"
      ],
      "metadata": {
        "id": "5HZsYPs17m6Z"
      },
      "execution_count": 6,
      "outputs": []
    },
    {
      "cell_type": "code",
      "source": [
        "# Definir el layout\n",
        "layout = {\n",
        "    'A': [9, 12, 33, 47, 53, 67, 78, 92],\n",
        "    'B': [48, 81],\n",
        "    'C': [13, 41, 62],\n",
        "    'D': [1, 3, 45, 79],\n",
        "    'E': [14, 16, 24, 44, 46, 55, 57, 64, 74, 82, 87, 98],\n",
        "    'F': [10, 31],\n",
        "    'G': [6, 25],\n",
        "    'H': [23, 39, 50, 56, 65, 68],\n",
        "    'I': [32, 70, 73, 83, 88, 93],\n",
        "    'J': [15],\n",
        "    'K': [4],\n",
        "    'L': [26, 37, 51, 84],\n",
        "    'M': [22, 27],\n",
        "    'N': [18, 58, 59, 66, 71, 91],\n",
        "    'O': [0, 5, 7, 54, 72, 90, 99],\n",
        "    'P': [38, 95],\n",
        "    'Q': [94],\n",
        "    'R': [29, 35, 40, 42, 77, 80],\n",
        "    'S': [11, 19, 36, 76, 86, 96],\n",
        "    'T': [17, 20, 30, 43, 49, 69, 75, 85, 97],\n",
        "    'U': [8, 61, 63],\n",
        "    'V': [34],\n",
        "    'W': [60, 89],\n",
        "    'X': [28],\n",
        "    'Y': [21, 52],\n",
        "    'Z': [2]\n",
        "}\n",
        "\n",
        "def homophonic_encrypt(message):\n",
        "    encrypted_message = ''\n",
        "    for char in message.upper():\n",
        "        if char in layout:\n",
        "            encrypted_message += str(random.choice(layout[char])) + ' '\n",
        "        else:\n",
        "            encrypted_message += char\n",
        "    return encrypted_message.strip()\n",
        "\n",
        "def homophonic_decrypt(encrypted_message):\n",
        "    decrypted_message = ''\n",
        "    tokens = encrypted_message.split()\n",
        "    for token in tokens:\n",
        "        found = False\n",
        "        for char, values in layout.items():\n",
        "            if int(token) in values:\n",
        "                decrypted_message += char\n",
        "                found = True\n",
        "                break\n",
        "        if not found:\n",
        "            decrypted_message += token\n",
        "    return decrypted_message"
      ],
      "metadata": {
        "id": "Jxa5lCoMpEvu"
      },
      "execution_count": 7,
      "outputs": []
    },
    {
      "cell_type": "code",
      "source": [
        "# Ejemplo de uso\n",
        "message = \"Crypto is fun\"\n",
        "encrypted_message = homophonic_encrypt(message)\n",
        "print(\"Mensaje cifrado:\", encrypted_message)\n",
        "\n",
        "# Mensaje encriptado\n",
        "encrypted_message = \"13 5 26 0 22 81 88 47\"\n",
        "# Descifrar el mensaje\n",
        "decrypted_message = homophonic_decrypt(encrypted_message)\n",
        "print(\"Mensaje descifrado:\", decrypted_message)"
      ],
      "metadata": {
        "colab": {
          "base_uri": "https://localhost:8080/"
        },
        "id": "vPyB776H7jGI",
        "outputId": "45ca1825-b01c-4fa2-bb2d-6565c455cffc"
      },
      "execution_count": 44,
      "outputs": [
        {
          "output_type": "stream",
          "name": "stdout",
          "text": [
            "Mensaje cifrado: 41 29 21 38 20 99  88 96  10 61 91\n",
            "Mensaje descifrado: COLOMBIA\n"
          ]
        }
      ]
    }
  ]
}