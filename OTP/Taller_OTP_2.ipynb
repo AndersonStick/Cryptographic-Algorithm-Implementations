{
  "nbformat": 4,
  "nbformat_minor": 0,
  "metadata": {
    "colab": {
      "provenance": []
    },
    "kernelspec": {
      "name": "python3",
      "display_name": "Python 3"
    },
    "language_info": {
      "name": "python"
    }
  },
  "cells": [
    {
      "cell_type": "markdown",
      "source": [
        "# **FIRST CRIPTOGRAPHY HOMEWORK**\n",
        "## Anderson Stick Barrera Tovar\n",
        "### 1000623506"
      ],
      "metadata": {
        "id": "4rKHAhgnS3qH"
      }
    },
    {
      "cell_type": "markdown",
      "source": [
        "The One Time Pad (OTP) algorithm is a method of encryption that provides perfect secrecy when implemented correctly. It was invented in 1917 by Gilbert Vernam, though its formal proof of security was provided by Claude Shannon in 1949. The key concept behind OTP is the use of a random, secret key that is at least as long as the message being encrypted.\n",
        "\n",
        "Here's how the OTP algorithm works:\n",
        "\n",
        "1. **Key Generation**: A truly random key is generated. This key must be at least as long as the message to be encrypted and should never be reused for any other message.\n",
        "\n",
        "2. **Encryption**: To encrypt a message, each character of the message is combined (usually XOR operation) with the corresponding character in the key. The resulting ciphertext is generated.\n",
        "\n",
        "3. **Decryption**: Decryption is essentially the reverse process. Each character of the ciphertext is combined with the corresponding character in the key to retrieve the original message.\n",
        "\n",
        "Key properties and characteristics of the One Time Pad algorithm:\n",
        "\n",
        "- **Perfect Secrecy**: One Time Pad provides perfect secrecy, meaning that even with unlimited computational power, an attacker cannot gain any information about the plaintext without knowing the key. This property holds true if the key is truly random, is at least as long as the message, and is only used once.\n",
        "  \n",
        "- **Key Management**: The security of OTP depends heavily on the secrecy and randomness of the key. If the key is compromised or reused, the security of the encryption is lost. Therefore, key management is critical in OTP.\n",
        "  \n",
        "- **Vulnerabilities and Practical Limitations**: While theoretically secure, OTP has practical limitations and vulnerabilities. The primary challenge is the secure distribution of the key, as it must be distributed in a secure manner to both the sender and the receiver. Additionally, the key must be as long as the message, making it impractical for large messages.\n",
        "  \n",
        "- **Computational Efficiency**: While OTP offers perfect secrecy, it is not computationally efficient, especially for large volumes of data. The encryption and decryption process requires the same amount of time and effort as the length of the message itself.\n",
        "\n",
        "Overall, the One Time Pad is a fascinating encryption algorithm that demonstrates the concept of perfect secrecy, but its practical application is limited due to challenges in key distribution and computational efficiency."
      ],
      "metadata": {
        "id": "UcaxV03qLQgk"
      }
    },
    {
      "cell_type": "markdown",
      "source": [
        "# **What is a One Time-Pad?**\n",
        "\n",
        "**The one-time pad is an encryption technique that transforms plaintext to ciphertext.**\n",
        "\n",
        "**Given a plaintext message, the one-time pad encrypts the plaintext with a randomly generated key that is at least as long as the length of the plaintext, if not longer. In order for the one-time pad to stay secure, a key that is generated randomly cannot be used more than once, hence the name of the encryption technique.**\n",
        "\n"
      ],
      "metadata": {
        "id": "9e6T1AeJC-js"
      }
    },
    {
      "cell_type": "markdown",
      "source": [
        "$\\text{One-Time Pad Encryption}: E(k, p) \\rightarrow c$\n",
        "\n",
        "$\\text{One-Time Pad Decryption}: De(k, c) \\rightarrow p$\n",
        "\n",
        "$\\text{Where: } E = \\text{Encryption}, D = \\text{Decryption}, k = \\text{randomly generated key}, p = \\text{plaintext}, c = \\text{ciphertext}$"
      ],
      "metadata": {
        "id": "Y7SHcE2zTTfR"
      }
    },
    {
      "cell_type": "markdown",
      "source": [
        "<sup>Source: Lecture - [Introduction to Cryptography](https://www.cs.purdue.edu/homes/ninghui/courses/Fall05/lectures/355_Fall05_lect09.pdf) from Purdue University by Ninghui Li</sup>\n",
        "\n",
        "<sup>Source: Lecture - [Perfect Secrecy, One Time Pad, Randomness](https://www.cs.umd.edu/~gasarch/COURSES/456/F18/lecps/lecps.pdf) University of Maryland Course by William Gasarch</sup>"
      ],
      "metadata": {
        "id": "BPbiu0XLTYit"
      }
    },
    {
      "cell_type": "code",
      "execution_count": 1,
      "metadata": {
        "id": "mM5fKD-JC5hx"
      },
      "outputs": [],
      "source": [
        "import secrets\n",
        "import string"
      ]
    },
    {
      "cell_type": "markdown",
      "source": [
        "The `secrets` and `string` libraries in Python serve specific purposes in the provided code to implement the One Time Pad (OTP) encryption algorithm.\n",
        "\n",
        "1. **`secrets`**: This library is used to generate cryptographically secure random numbers. In the code, `secrets.choice()` is used to randomly select elements from a sequence (in this case, a range of numbers) to construct the OTP key. It's preferable to use `secrets` over `random` for security applications as `secrets` uses cryptographically secure entropy sources.\n",
        "\n",
        "2. **`string`**: This library provides useful constants for ASCII characters. In the code, `string.ascii_lowercase` is used to obtain a string containing all lowercase letters of the English alphabet. This is used to build a dictionary that maps indices to alphabet letters, facilitating the encryption and decryption of messages."
      ],
      "metadata": {
        "id": "xdolNSUlL1Z_"
      }
    },
    {
      "cell_type": "code",
      "source": [
        "def generate_key(message_length):\n",
        "    # Generate a random key with the same length as the message\n",
        "    key = [secrets.choice(range(0, 26)) for _ in range(message_length)]\n",
        "    return key"
      ],
      "metadata": {
        "id": "4ihbumZhERaT"
      },
      "execution_count": 2,
      "outputs": []
    },
    {
      "cell_type": "code",
      "source": [
        "def otp(message, key):\n",
        "    # Create a dictionary where keys are indices and values are lowercase letters of the alphabet\n",
        "    plain_dict = {index: letter for index, letter in enumerate(string.ascii_lowercase)}\n",
        "\n",
        "    # Create a dictionary where keys are lowercase letters of the alphabet and values are indices\n",
        "    inv_dict = {letter: index for index, letter in plain_dict.items()}\n",
        "\n",
        "    # Convert the message to lowercase to ensure consistency\n",
        "    message = message.lower()\n",
        "\n",
        "    # Remove all characters that are not letters or numbers from the message\n",
        "    message = ''.join(letter for letter in message if letter.isalnum())\n",
        "\n",
        "    # Ensure that the key is the same length as the message\n",
        "    key = key[:len(message)]\n",
        "\n",
        "    # Encrypt the message using OTP\n",
        "    encrypt_list = [(inv_dict[let] + k) % len(plain_dict) for let, k in zip(message, key)]\n",
        "\n",
        "    # Return a list containing the encrypted message and the key used for encryption\n",
        "    return [''.join([plain_dict[ind] for ind in encrypt_list])]"
      ],
      "metadata": {
        "id": "nD_u8t6tEcSW"
      },
      "execution_count": 3,
      "outputs": []
    },
    {
      "cell_type": "code",
      "source": [
        "# Use Example:\n",
        "message = 'Buenas tardes soy un mensaje cifrado por OTP'\n",
        "key = generate_key(len(message))\n",
        "print(\"Generated OTP Key:\", key)\n",
        "\n",
        "# Perform OTP encryption on the given message with a specified key\n",
        "otp_cipher = otp(message, key)\n",
        "\n",
        "# Print the encrypted message (cipher)\n",
        "print(f'The one time pad cipher text: {otp_cipher}')"
      ],
      "metadata": {
        "colab": {
          "base_uri": "https://localhost:8080/"
        },
        "id": "7E9qEpT4MQKq",
        "outputId": "459481e9-aaaf-455d-c9db-96554362fe30"
      },
      "execution_count": 4,
      "outputs": [
        {
          "output_type": "stream",
          "name": "stdout",
          "text": [
            "Generated OTP Key: [5, 11, 21, 11, 6, 11, 1, 7, 23, 9, 8, 14, 21, 6, 14, 20, 3, 15, 1, 21, 14, 1, 25, 10, 11, 15, 12, 24, 25, 2, 8, 18, 18, 8, 5, 18, 1, 23, 22, 4, 6, 2, 2, 23]\n",
            "The one time pad cipher text: ['gfzygduhommgnumoqbfigbionxrpzfwhgztlq']\n"
          ]
        }
      ]
    },
    {
      "cell_type": "markdown",
      "source": [
        "##Decryption"
      ],
      "metadata": {
        "id": "LEp3iti9MaH7"
      }
    },
    {
      "cell_type": "code",
      "source": [
        "def otp_decrypt(ciphertext, key):\n",
        "    # Create a dictionary where keys are indices and values are lowercase letters of the alphabet\n",
        "    plain_dict = {index: letter for index, letter in enumerate(string.ascii_lowercase)}\n",
        "\n",
        "    # Create a dictionary where keys are lowercase letters of the alphabet and values are indices\n",
        "    inv_dict = {letter: index for index, letter in plain_dict.items()}\n",
        "\n",
        "    # Ensure that the key is the same length as the ciphertext\n",
        "    key = key[:len(ciphertext)]\n",
        "\n",
        "    # Decrypt the message using OTP\n",
        "    decrypt_list = [(inv_dict[let] - k) % len(plain_dict) for let, k in zip(ciphertext, key)]\n",
        "\n",
        "    # Return the decrypted message\n",
        "    return ''.join([plain_dict[ind] for ind in decrypt_list])"
      ],
      "metadata": {
        "id": "H2I281OnMXdY"
      },
      "execution_count": 5,
      "outputs": []
    },
    {
      "cell_type": "code",
      "source": [
        "# Decrypt the cipher text using the same key\n",
        "decrypted_message = otp_decrypt(otp_cipher[0], key)\n",
        "print(f'Decrypted message: {decrypted_message}')"
      ],
      "metadata": {
        "colab": {
          "base_uri": "https://localhost:8080/"
        },
        "id": "O4DbhzJ8MiB-",
        "outputId": "5510ec0a-dec8-4116-8276-83ecc0258e46"
      },
      "execution_count": 6,
      "outputs": [
        {
          "output_type": "stream",
          "name": "stdout",
          "text": [
            "Decrypted message: buenastardessoyunmensajecifradoporotp\n"
          ]
        }
      ]
    },
    {
      "cell_type": "markdown",
      "source": [
        "# References\n",
        "<sup>Source: Lecture - [Introduction to Cryptography](https://www.cs.purdue.edu/homes/ninghui/courses/Fall05/lectures/355_Fall05_lect09.pdf) from Purdue University by Ninghui Li</sup>\n",
        "\n",
        "<sup>Source: Lecture - [Perfect Secrecy, One Time Pad, Randomness](https://www.cs.umd.edu/~gasarch/COURSES/456/F18/lecps/lecps.pdf) University of Maryland Course by William Gasarch</sup>\n",
        "\n"
      ],
      "metadata": {
        "id": "3f4HEQ-9TZ_k"
      }
    }
  ]
}