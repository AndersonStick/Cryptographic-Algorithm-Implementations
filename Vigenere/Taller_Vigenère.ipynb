{
  "nbformat": 4,
  "nbformat_minor": 0,
  "metadata": {
    "colab": {
      "provenance": []
    },
    "kernelspec": {
      "name": "python3",
      "display_name": "Python 3"
    },
    "language_info": {
      "name": "python"
    }
  },
  "cells": [
    {
      "cell_type": "markdown",
      "source": [
        "# **Cifrado Taller Vigenère HOMEWORK**\n",
        "## Anderson Stick Barrera Tovar\n",
        "### 1000623506"
      ],
      "metadata": {
        "id": "6ZdqSMRK1Moq"
      }
    },
    {
      "cell_type": "markdown",
      "source": [
        "Implementar el algoritmo de Vigenère en el lenguaje Python teniendo en cuenta lo siguiente:\n",
        "El programa debe correr en modo línea de comando\n",
        "\n",
        "Ciframiento\n",
        "- Desde la consola debe recibir la clave, el parámetro t y el mensaje a cifrar\n",
        "- Como resultado debe generar el texto cifrado\n",
        "\n",
        "Decifrafiemto\n",
        "- Desde la consola debe recibir la clave, el parámetro t y el texto cifrado\n",
        "- Como resultado debe generar el mensaje en texto claro\n",
        "\n",
        "Cargar en esta tarea un archivo ZIP con lo siguiente:\n",
        "- Archivo Python\n",
        "- Pequeño video o screenshot (pantallazo) en donde se muestre funcionar el algoritmo"
      ],
      "metadata": {
        "id": "IxOCcHL728sP"
      }
    },
    {
      "cell_type": "markdown",
      "source": [
        "THERE IS A SECRET PASSAGE BEHIND THE PICTURE FRAME\n",
        "THEREISASECRETPASSAGEBEHINDTHEPICTUREFRAME\n",
        "\n",
        "KEYWORD= CRYPTO\n",
        "\n",
        "t=3"
      ],
      "metadata": {
        "id": "bfzroQFNsw5H"
      }
    },
    {
      "cell_type": "markdown",
      "source": [
        "El separar por t es para entender la teoría y ver de cada cuantos carácteres se debe separar el mensaje, sin embargo no tiene mucho efecto en el crifrado"
      ],
      "metadata": {
        "id": "9bWgxqWM13DB"
      }
    },
    {
      "cell_type": "code",
      "execution_count": 1,
      "metadata": {
        "id": "u3J2qJKFswS3"
      },
      "outputs": [],
      "source": [
        "def three_characters_separate(mensaje):\n",
        "    grupos_de_tres = [mensaje[i:i+3] for i in range(0, len(mensaje), 3)]\n",
        "    return ' '.join(grupos_de_tres)"
      ]
    },
    {
      "cell_type": "code",
      "source": [
        "# Example usage\n",
        "mensaje = \"THEREISASECRETPASSAGEBEHINDTHEPICTUREFRAME\"\n",
        "mensaje_separado = three_characters_separate(mensaje)\n",
        "print(\"Mensaje separado por grupos de tres caracteres:\")\n",
        "print(mensaje_separado)"
      ],
      "metadata": {
        "colab": {
          "base_uri": "https://localhost:8080/"
        },
        "id": "6FRK4EoN1j98",
        "outputId": "3c65e159-7714-4a12-b1ab-4e0e611c0d55"
      },
      "execution_count": 2,
      "outputs": [
        {
          "output_type": "stream",
          "name": "stdout",
          "text": [
            "Mensaje separado por grupos de tres caracteres:\n",
            "THE REI SAS ECR ETP ASS AGE BEH IND THE PIC TUR EFR AME\n"
          ]
        }
      ]
    },
    {
      "cell_type": "markdown",
      "source": [
        "CRY PTO CRY PTO CRY PTO CRY PTO CRY PTO CRY PTO CRY PTO\n",
        "\n",
        "THE REI SAS ECR ETP ASS AGE BEH IND THE PIC TUR EFR AME\n",
        "\n",
        "VYC GXW URQ TVF GKN PLG CXC QXV KEB IAS RZA INF GWP PFS"
      ],
      "metadata": {
        "id": "1XxB8LZYtbRg"
      }
    },
    {
      "cell_type": "markdown",
      "source": [
        "Primero se quitan los espacios entre palabras"
      ],
      "metadata": {
        "id": "gvcKBZK2x_mX"
      }
    },
    {
      "cell_type": "code",
      "source": [
        "def remove_spaces(sentence):\n",
        "    return ''.join(sentence.split())\n",
        "\n",
        "sentence = \"THERE IS A SECRET PASSAGE BEHIND THE PICTURE FRAME\"\n",
        "sentence_without_spaces = remove_spaces(sentence)\n",
        "print(\"Sentence without spaces:\", sentence_without_spaces)"
      ],
      "metadata": {
        "colab": {
          "base_uri": "https://localhost:8080/"
        },
        "id": "10efzFI-x-8w",
        "outputId": "8ef1d3cf-660a-40e6-cc56-d550aef9abe7"
      },
      "execution_count": 3,
      "outputs": [
        {
          "output_type": "stream",
          "name": "stdout",
          "text": [
            "Sentence without spaces: THEREISASECRETPASSAGEBEHINDTHEPICTUREFRAME\n"
          ]
        }
      ]
    },
    {
      "cell_type": "code",
      "source": [
        "def vigenere_cipher(message, keyword, t):\n",
        "    alphabet = 'ABCDEFGHIJKLMNOPQRSTUVWXYZ'\n",
        "    result = ''\n",
        "    repeated_keyword = (keyword * (len(message) // len(keyword))) + keyword[:len(message) % len(keyword)]\n",
        "\n",
        "    for i in range(len(message)):\n",
        "        if message[i].isalpha():\n",
        "            shift = alphabet.index(repeated_keyword[i].upper())\n",
        "            if message[i].islower():\n",
        "                result += chr((ord(message[i]) - ord('a') + shift) % 26 + ord('a'))\n",
        "            else:\n",
        "                result += chr((ord(message[i]) - ord('A') + shift) % 26 + ord('A'))\n",
        "        else:\n",
        "            result += message[i]\n",
        "\n",
        "    if t > 0:\n",
        "        result = ' '.join([result[i:i+t] for i in range(0, len(result), t)])\n",
        "\n",
        "    return result"
      ],
      "metadata": {
        "id": "OvgWpuxexThy"
      },
      "execution_count": 4,
      "outputs": []
    },
    {
      "cell_type": "code",
      "source": [
        "# Example usage\n",
        "message = sentence_without_spaces\n",
        "keyword = \"CRYPTO\"\n",
        "t = 3\n",
        "\n",
        "encrypted_message = vigenere_cipher(message, keyword, t)\n",
        "print(\"Message to encrypt: \", message)\n",
        "print(\"Keyword: \", keyword)\n",
        "print(\"Encrypted message:\", encrypted_message)"
      ],
      "metadata": {
        "colab": {
          "base_uri": "https://localhost:8080/"
        },
        "id": "6u1CIcpnyiKE",
        "outputId": "936d7893-10ac-41aa-97ce-74370541a076"
      },
      "execution_count": 5,
      "outputs": [
        {
          "output_type": "stream",
          "name": "stdout",
          "text": [
            "Message to encrypt:  THEREISASECRETPASSAGEBEHINDTHEPICTUREFRAME\n",
            "Keyword:  CRYPTO\n",
            "Encrypted message: VYC GXW URQ TVF GKN PLG CXC QXV KEB IAS RZA INF GWP PFS\n"
          ]
        }
      ]
    },
    {
      "cell_type": "code",
      "source": [
        "# Console example usage\n",
        "keyword = input(\"Enter the keyword: \")\n",
        "t = int(input(\"t = \"))\n",
        "message = remove_spaces(input(\"Enter the message to encrypt: \"))\n",
        "\n",
        "encrypted_message = vigenere_cipher(message, keyword, t)\n",
        "print(\"Message to encrypt: \", message)\n",
        "print(\"Keyword: \", keyword)\n",
        "print(\"Encrypted message:\", encrypted_message)"
      ],
      "metadata": {
        "colab": {
          "base_uri": "https://localhost:8080/"
        },
        "id": "B47nyuvg5mYt",
        "outputId": "eb6f3380-4bed-4f0d-dde8-bc133996c488"
      },
      "execution_count": 6,
      "outputs": [
        {
          "output_type": "stream",
          "name": "stdout",
          "text": [
            "Enter the keyword: CRYPTO\n",
            "t = 3\n",
            "Enter the message to encrypt: THERE IS A SECRET PASSAGE BEHIND THE PICTURE FRAME\n",
            "Message to encrypt:  THEREISASECRETPASSAGEBEHINDTHEPICTUREFRAME\n",
            "Keyword:  CRYPTO\n",
            "Encrypted message: VYC GXW URQ TVF GKN PLG CXC QXV KEB IAS RZA INF GWP PFS\n"
          ]
        }
      ]
    },
    {
      "cell_type": "markdown",
      "source": [
        "# Descifrado"
      ],
      "metadata": {
        "id": "8kXSfaoIz8CN"
      }
    },
    {
      "cell_type": "code",
      "source": [
        "def vigenere_decipher(encrypted_message, keyword, t):\n",
        "    alphabet = 'ABCDEFGHIJKLMNOPQRSTUVWXYZ'\n",
        "    result = ''\n",
        "    repeated_keyword = (keyword * (len(encrypted_message) // len(keyword))) + keyword[:len(encrypted_message) % len(keyword)]\n",
        "\n",
        "    for i in range(len(encrypted_message)):\n",
        "        if encrypted_message[i].isalpha():\n",
        "            shift = alphabet.index(repeated_keyword[i].upper())\n",
        "            if encrypted_message[i].islower():\n",
        "                result += chr((ord(encrypted_message[i]) - ord('a') - shift) % 26 + ord('a'))\n",
        "            else:\n",
        "                result += chr((ord(encrypted_message[i]) - ord('A') - shift) % 26 + ord('A'))\n",
        "        else:\n",
        "            result += encrypted_message[i]\n",
        "\n",
        "    if t > 0:\n",
        "        result = ' '.join([result[i:i+t] for i in range(0, len(result), t)])\n",
        "\n",
        "    return result"
      ],
      "metadata": {
        "id": "tCI-vvkkz66-"
      },
      "execution_count": 7,
      "outputs": []
    },
    {
      "cell_type": "code",
      "source": [
        "# Example usage\n",
        "encrypted_message = remove_spaces(\"VYC GXW URQ TVF GKN PLG CXC QXV KEB IAS RZA INF GWP PFS\")\n",
        "keyword = \"CRYPTO\"\n",
        "decrypted_message = vigenere_decipher(encrypted_message, keyword, t)\n",
        "print(\"Decrypted message:\", decrypted_message)"
      ],
      "metadata": {
        "colab": {
          "base_uri": "https://localhost:8080/"
        },
        "id": "Dvt800DA0h5l",
        "outputId": "b43f6966-417c-4463-e11d-1c75347ae55c"
      },
      "execution_count": 8,
      "outputs": [
        {
          "output_type": "stream",
          "name": "stdout",
          "text": [
            "Decrypted message: THE REI SAS ECR ETP ASS AGE BEH IND THE PIC TUR EFR AME\n"
          ]
        }
      ]
    },
    {
      "cell_type": "code",
      "source": [
        "# Console example usage\n",
        "keyword = input(\"Enter the keyword: \")\n",
        "t = int(input(\"t = \"))\n",
        "encrypted_message = remove_spaces(input(\"Enter the encrypted message: \"))\n",
        "\n",
        "# encrypted_message = remove_spaces(\"VYC GXW URQ TVF GKN PLG CXC QXV KEB IAS RZA INF GWP PFS\")\n",
        "decrypted_message = vigenere_decipher(encrypted_message, keyword, t)\n",
        "print(\"Decrypted message:\", decrypted_message)"
      ],
      "metadata": {
        "colab": {
          "base_uri": "https://localhost:8080/"
        },
        "id": "_G_-Y5RN4Xph",
        "outputId": "ac81ff82-59d6-45d1-f9ac-9f1a6dad61a7"
      },
      "execution_count": 10,
      "outputs": [
        {
          "output_type": "stream",
          "name": "stdout",
          "text": [
            "Enter the keyword: CRYPTO\n",
            "t = 3\n",
            "Enter the encrypted message: VYC GXW URQ TVF GKN PLG CXC QXV KEB IAS RZA INF GWP PFS\n",
            "Decrypted message: THE REI SAS ECR ETP ASS AGE BEH IND THE PIC TUR EFR AME\n"
          ]
        }
      ]
    }
  ]
}