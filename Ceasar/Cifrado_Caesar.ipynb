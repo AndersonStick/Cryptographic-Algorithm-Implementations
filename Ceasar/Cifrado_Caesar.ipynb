{
  "nbformat": 4,
  "nbformat_minor": 0,
  "metadata": {
    "colab": {
      "provenance": []
    },
    "kernelspec": {
      "name": "python3",
      "display_name": "Python 3"
    },
    "language_info": {
      "name": "python"
    }
  },
  "cells": [
    {
      "cell_type": "markdown",
      "source": [
        "# **Cifrado Caesar HOMEWORK**\n",
        "## Anderson Stick Barrera Tovar\n",
        "### 1000623506"
      ],
      "metadata": {
        "id": "ok13OYvx_gs-"
      }
    },
    {
      "cell_type": "markdown",
      "source": [
        "Implementar el algoritmo de cifrado del César en Python. Utilizar un parámetro para identificar el parámetro k (permutaciones).\n",
        "\n",
        "El algoritmo debe recibir como entrada para cifrar:\n",
        "- El mensaje en texto claro\n",
        "- El parámetro k\n",
        "\n",
        "Para descifrar:\n",
        "- Mensaje cifrado\n",
        "- El parámetro k\n",
        "\n",
        "Cargar en esta tarea un archivo ZIP con lo siguiente:\n",
        "- Archivo Python\n",
        "- Pequeño video o screenshot (pantallazo) en donde se muestre funcionar el algoritmo"
      ],
      "metadata": {
        "id": "OZDjYZqQ_w5L"
      }
    },
    {
      "cell_type": "markdown",
      "source": [
        "# Implementación del cifrado César en Python\n",
        "\n",
        "A continuación, se presenta la implementación del algoritmo de cifrado César en Python. Este algoritmo permite cifrar y descifrar mensajes utilizando un parámetro para identificar el número de permutaciones, denotado como k.\n",
        "\n",
        "## Cifrado César\n",
        "\n",
        "El cifrado César es un tipo de cifrado por sustitución en el que cada letra en el texto es reemplazada por una letra que se encuentra un número fijo de posiciones más adelante en el alfabeto. Por ejemplo, con un desplazamiento de 3 posiciones, 'A' se convertiría en 'D', 'B' se convertiría en 'E', y así sucesivamente.\n",
        "\n",
        "El algoritmo recibe como entrada:\n",
        "- El mensaje en texto claro.\n",
        "- El parámetro k, que denota el número de permutaciones.\n"
      ],
      "metadata": {
        "id": "x3sNZrCc-_0v"
      }
    },
    {
      "cell_type": "markdown",
      "source": [
        "### Función para cifrar un mensaje:"
      ],
      "metadata": {
        "id": "0ibe2CFxAHAK"
      }
    },
    {
      "cell_type": "code",
      "source": [
        "def caesar_cipher(text, k):\n",
        "    ciphered_text = \"\"\n",
        "    for char in text:\n",
        "        if char.isalpha():\n",
        "            shift = k % 26  # Limiting the value of k to a valid range\n",
        "            if char.islower():\n",
        "                ciphered_text += chr((ord(char) - ord('a') + shift) % 26 + ord('a'))\n",
        "            elif char.isupper():\n",
        "                ciphered_text += chr((ord(char) - ord('A') + shift) % 26 + ord('A'))\n",
        "        else:\n",
        "            ciphered_text += char\n",
        "    return ciphered_text"
      ],
      "metadata": {
        "id": "dFieMNVNAEgp"
      },
      "execution_count": 1,
      "outputs": []
    },
    {
      "cell_type": "markdown",
      "source": [
        "### Función para descifrar un mensaje:"
      ],
      "metadata": {
        "id": "lrZE929pOwbc"
      }
    },
    {
      "cell_type": "code",
      "source": [
        "def caesar_decipher(ciphered_text, k):\n",
        "    return caesar_cipher(ciphered_text, -k)  # Decrypting is simply doing a cipher with the negative of k"
      ],
      "metadata": {
        "id": "FTN9klu2OxTJ"
      },
      "execution_count": 2,
      "outputs": []
    },
    {
      "cell_type": "markdown",
      "source": [
        "## Ejemplo de uso:"
      ],
      "metadata": {
        "id": "NkIUzlDBAPAh"
      }
    },
    {
      "cell_type": "code",
      "source": [
        "# Example usage\n",
        "plain_text = \"Hello World\"\n",
        "k = 3  # Parameter k for the Caesar cipher\n",
        "\n",
        "# Encrypt the text\n",
        "ciphered_text = caesar_cipher(plain_text, k)\n",
        "print(\"Ciphered text:\", ciphered_text)\n",
        "\n",
        "# Decrypt the text\n",
        "deciphered_text = caesar_decipher(ciphered_text, k)\n",
        "print(\"Deciphered text:\", deciphered_text)"
      ],
      "metadata": {
        "colab": {
          "base_uri": "https://localhost:8080/"
        },
        "id": "Hs-5gXjGOqY6",
        "outputId": "0c1e541c-3fa9-4732-ab4b-2ea13cc0b63f"
      },
      "execution_count": 3,
      "outputs": [
        {
          "output_type": "stream",
          "name": "stdout",
          "text": [
            "Ciphered text: Khoor Zruog\n",
            "Deciphered text: Hello World\n"
          ]
        }
      ]
    },
    {
      "cell_type": "code",
      "source": [
        "ciphertext = \"WKLVL VHAWU HPHOB LQVHF XUHHQ FUBSW LRQGR QRWXV HLWWR SURWH FWYDO XDEOH LQIRU PDWLR Q\"\n",
        "# Descifrar el texto\n",
        "deciphered_text = caesar_decipher(ciphertext, k)\n",
        "print(\"Texto descifrado:\", deciphered_text)"
      ],
      "metadata": {
        "colab": {
          "base_uri": "https://localhost:8080/"
        },
        "id": "4-kp9Ulz99uh",
        "outputId": "d508e86b-df10-4a6b-ee3a-ca58a7c5a085"
      },
      "execution_count": 4,
      "outputs": [
        {
          "output_type": "stream",
          "name": "stdout",
          "text": [
            "Texto descifrado: THISI SEXTR EMELY INSEC UREEN CRYPT IONDO NOTUS EITTO PROTE CTVAL UABLE INFOR MATIO N\n"
          ]
        }
      ]
    },
    {
      "cell_type": "markdown",
      "source": [
        "Message 2 Then the and\n",
        "LWLVF ODLPH GWKHH DUOLH VWNQR ZQUHI HUHQF HWRWK LVWBS HRIFL SKHUL VLQWK HNDPD VXWUD ZKLFK VDBVZ RPHQV KRXOG OHDUQ WKHDU WRIVH FUHWZ ULWLQ JWRFR QFHDO WKHLU OLDVR QV"
      ],
      "metadata": {
        "id": "cOjsnhED9u_G"
      }
    },
    {
      "cell_type": "code",
      "source": [
        "ciphertext = \"LWLVF ODLPH GWKHH DUOLH VWNQR ZQUHI HUHQF HWRWK LVWBS HRIFL SKHUL VLQWK HNDPD VXWUD ZKLFK VDBVZ RPHQV KRXOG OHDUQ WKHDU WRIVH FUHWZ ULWLQ JWRFR QFHDO WKHLU OLDVR QV\"\n",
        "# Descifrar el texto\n",
        "deciphered_text = caesar_decipher(ciphertext, k)\n",
        "print(\"Texto descifrado:\", deciphered_text)"
      ],
      "metadata": {
        "colab": {
          "base_uri": "https://localhost:8080/"
        },
        "id": "7lOj8lfT9m3S",
        "outputId": "5dd8521d-bdd8-4924-c430-27f4e3dd9239"
      },
      "execution_count": 5,
      "outputs": [
        {
          "output_type": "stream",
          "name": "stdout",
          "text": [
            "Texto descifrado: ITISC LAIME DTHEE ARLIE STKNO WNREF ERENC ETOTH ISTYP EOFCI PHERI SINTH EKAMA SUTRA WHICH SAYSW OMENS HOULD LEARN THEAR TOFSE CRETW RITIN GTOCO NCEAL THEIR LIASO NS\n"
          ]
        }
      ]
    }
  ]
}